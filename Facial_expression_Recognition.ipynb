{
  "nbformat": 4,
  "nbformat_minor": 0,
  "metadata": {
    "colab": {
      "name": "Facial expression Recognition",
      "provenance": []
    },
    "kernelspec": {
      "name": "python3",
      "display_name": "Python 3"
    },
    "language_info": {
      "name": "python"
    },
    "accelerator": "GPU"
  },
  "cells": [
    {
      "cell_type": "code",
      "metadata": {
        "colab": {
          "base_uri": "https://localhost:8080/"
        },
        "id": "H6rpLckgVCfK",
        "outputId": "d5d6371b-a961-4493-9209-757341dc2159"
      },
      "source": [
        "  !git clone https://github.com/muxspace/facial_expressions.git"
      ],
      "execution_count": null,
      "outputs": [
        {
          "output_type": "stream",
          "text": [
            "Cloning into 'facial_expressions'...\n",
            "remote: Enumerating objects: 14214, done.\u001b[K\n",
            "remote: Total 14214 (delta 0), reused 0 (delta 0), pack-reused 14214\u001b[K\n",
            "Receiving objects: 100% (14214/14214), 239.65 MiB | 27.84 MiB/s, done.\n",
            "Resolving deltas: 100% (223/223), done.\n",
            "Checking out files: 100% (13996/13996), done.\n"
          ],
          "name": "stdout"
        }
      ]
    },
    {
      "cell_type": "code",
      "metadata": {
        "id": "wIjkKmhPVUL6"
      },
      "source": [
        "import csv\n",
        "data= {}\n",
        "with open('/content/facial_expressions/data/legend.csv') as f:\n",
        "  reader = csv.reader(f)\n",
        "  next(reader)\n",
        "  for row in reader:\n",
        "    key =  row[2]\n",
        "    key = key.lower()\n",
        "    if key in data:\n",
        "      data[key].append(row[1])\n",
        "    else:\n",
        "      data[key]=[row[1]]\n"
      ],
      "execution_count": null,
      "outputs": []
    },
    {
      "cell_type": "code",
      "metadata": {
        "id": "Tr_MwpzhW8hW"
      },
      "source": [
        "emotion_list = list(data.keys())\n"
      ],
      "execution_count": null,
      "outputs": []
    },
    {
      "cell_type": "code",
      "metadata": {
        "id": "Z9tz45OnXn4v"
      },
      "source": [
        "import os\n",
        "os.mkdir('master_data1')\n",
        "os.mkdir('master_data1/training')\n",
        "os.mkdir('master_data1/testing')\n"
      ],
      "execution_count": null,
      "outputs": []
    },
    {
      "cell_type": "code",
      "metadata": {
        "id": "lrhPSMWqYXIo"
      },
      "source": [
        "for emotion in emotion_list:\n",
        "  os.mkdir('master_data1/training/'+emotion)\n",
        "  os.mkdir('master_data1/testing/'+emotion)"
      ],
      "execution_count": null,
      "outputs": []
    },
    {
      "cell_type": "code",
      "metadata": {
        "id": "Wec2CCzeYZy3"
      },
      "source": [
        "from shutil import copyfile\n",
        "split_size = 0.8\n",
        "#80 % images for the training data\n",
        "\n",
        "for emotion, images in data.items():\n",
        "  train_size = int(split_size * len(images))\n",
        "  train_images = images[:train_size]\n",
        "  test_images = images[train_size:]\n",
        "  for image in train_images:\n",
        "    source = os.path.join('/content/facial_expressions/images',image)\n",
        "    dest = os.path.join('/content/master_data1/training',emotion,image)\n",
        "    copyfile(source,dest)\n",
        "  for image in test_images:\n",
        "    source = os.path.join('/content/facial_expressions/images',image)\n",
        "    dest = os.path.join('/content/master_data1/testing',emotion,image)\n",
        "    copyfile(source,dest)"
      ],
      "execution_count": null,
      "outputs": []
    },
    {
      "cell_type": "code",
      "metadata": {
        "id": "IgIf8vX8Zr7_"
      },
      "source": [
        "import tensorflow as tf\n",
        "from tensorflow.keras.preprocessing.image import ImageDataGenerator\n",
        "from tensorflow.keras.optimizers import Adam\n",
        "from tensorflow.keras.callbacks import EarlyStopping\n",
        "from tensorflow.keras.layers import Conv2D, MaxPooling2D, Dense, Flatten"
      ],
      "execution_count": null,
      "outputs": []
    },
    {
      "cell_type": "code",
      "metadata": {
        "colab": {
          "base_uri": "https://localhost:8080/"
        },
        "id": "PIgykIm0daCX",
        "outputId": "9286952d-eb73-4c11-a37e-308bcdf66eb5"
      },
      "source": [
        "model = tf.keras.models.Sequential([\n",
        "      Conv2D(16,(3,3),activation = 'relu',input_shape=(100,100,3)),\n",
        "      MaxPooling2D(pool_size = (2,2)),\n",
        "      Conv2D(32,(3,3),activation='relu'),\n",
        "      MaxPooling2D(pool_size = (2,2)),\n",
        "      Conv2D(64,(3,3),activation='relu'),\n",
        "      MaxPooling2D(pool_size = (2,2)),\n",
        "      Flatten(),\n",
        "      Dense(1024, activation = 'relu'),\n",
        "      Dense(8,activation = 'softmax')\n",
        "])\n",
        "model.compile(optimizer = Adam(learning_rate = 0.01),loss='categorical_crossentropy',metrics=['acc'])\n",
        "model.summary()"
      ],
      "execution_count": null,
      "outputs": [
        {
          "output_type": "stream",
          "text": [
            "Model: \"sequential_3\"\n",
            "_________________________________________________________________\n",
            "Layer (type)                 Output Shape              Param #   \n",
            "=================================================================\n",
            "conv2d_6 (Conv2D)            (None, 98, 98, 16)        448       \n",
            "_________________________________________________________________\n",
            "max_pooling2d_6 (MaxPooling2 (None, 49, 49, 16)        0         \n",
            "_________________________________________________________________\n",
            "conv2d_7 (Conv2D)            (None, 47, 47, 32)        4640      \n",
            "_________________________________________________________________\n",
            "max_pooling2d_7 (MaxPooling2 (None, 23, 23, 32)        0         \n",
            "_________________________________________________________________\n",
            "conv2d_8 (Conv2D)            (None, 21, 21, 64)        18496     \n",
            "_________________________________________________________________\n",
            "max_pooling2d_8 (MaxPooling2 (None, 10, 10, 64)        0         \n",
            "_________________________________________________________________\n",
            "flatten_2 (Flatten)          (None, 6400)              0         \n",
            "_________________________________________________________________\n",
            "dense_4 (Dense)              (None, 1024)              6554624   \n",
            "_________________________________________________________________\n",
            "dense_5 (Dense)              (None, 8)                 8200      \n",
            "=================================================================\n",
            "Total params: 6,586,408\n",
            "Trainable params: 6,586,408\n",
            "Non-trainable params: 0\n",
            "_________________________________________________________________\n"
          ],
          "name": "stdout"
        }
      ]
    },
    {
      "cell_type": "code",
      "metadata": {
        "colab": {
          "base_uri": "https://localhost:8080/"
        },
        "id": "ahgFzwnZfpL4",
        "outputId": "e666cb84-90c8-4270-a299-611a3d5ed948"
      },
      "source": [
        "train_dir = '/content/master_data1/training'\n",
        "testing_dir = '/content/master_data1/testing'\n",
        "\n",
        "train_data_gen = ImageDataGenerator(rescale = 1.0/255)\n",
        "train_generator = train_data_gen.flow_from_directory(\n",
        "    train_dir,target_size=(100,100), class_mode='categorical',\n",
        "    batch_size = 128\n",
        ")\n",
        "test_data_gen = ImageDataGenerator(rescale = 1.0/255)\n",
        "test_generator = test_data_gen.flow_from_directory(\n",
        "    testing_dir,target_size = (100,100), class_mode='categorical',\n",
        "    batch_size = 128\n",
        ")"
      ],
      "execution_count": null,
      "outputs": [
        {
          "output_type": "stream",
          "text": [
            "Found 10941 images belonging to 8 classes.\n",
            "Found 2742 images belonging to 8 classes.\n"
          ],
          "name": "stdout"
        }
      ]
    },
    {
      "cell_type": "code",
      "metadata": {
        "id": "U7pa7yR1hMGP"
      },
      "source": [
        "es = EarlyStopping(monitor = 'val_acc',patience = 2, min_delta = 0.01)\n"
      ],
      "execution_count": null,
      "outputs": []
    },
    {
      "cell_type": "code",
      "metadata": {
        "colab": {
          "base_uri": "https://localhost:8080/"
        },
        "id": "rzFtK3ZWhe4F",
        "outputId": "f10530f4-b8d4-45d1-8bb9-4a00335d4c19"
      },
      "source": [
        "model.fit_generator(train_generator,epochs = 20, verbose =1, validation_data=test_generator,callbacks=[es])"
      ],
      "execution_count": null,
      "outputs": [
        {
          "output_type": "stream",
          "text": [
            "/usr/local/lib/python3.7/dist-packages/tensorflow/python/keras/engine/training.py:1844: UserWarning: `Model.fit_generator` is deprecated and will be removed in a future version. Please use `Model.fit`, which supports generators.\n",
            "  warnings.warn('`Model.fit_generator` is deprecated and '\n"
          ],
          "name": "stderr"
        },
        {
          "output_type": "stream",
          "text": [
            "Epoch 1/20\n",
            "86/86 [==============================] - 19s 212ms/step - loss: 8.3371 - acc: 0.4341 - val_loss: 1.0575 - val_acc: 0.5011\n",
            "Epoch 2/20\n",
            "86/86 [==============================] - 18s 208ms/step - loss: 1.0344 - acc: 0.4901 - val_loss: 1.0459 - val_acc: 0.5011\n",
            "Epoch 3/20\n",
            "86/86 [==============================] - 18s 208ms/step - loss: 1.0427 - acc: 0.4972 - val_loss: 1.0431 - val_acc: 0.5011\n"
          ],
          "name": "stdout"
        },
        {
          "output_type": "execute_result",
          "data": {
            "text/plain": [
              "<tensorflow.python.keras.callbacks.History at 0x7f350fa8fd50>"
            ]
          },
          "metadata": {
            "tags": []
          },
          "execution_count": 52
        }
      ]
    },
    {
      "cell_type": "code",
      "metadata": {
        "id": "Zg7ivuhsiblp"
      },
      "source": [
        ""
      ],
      "execution_count": null,
      "outputs": []
    }
  ]
}